{
  "nbformat": 4,
  "nbformat_minor": 0,
  "metadata": {
    "colab": {
      "provenance": [],
      "authorship_tag": "ABX9TyO8ny+LW0E7pUr/Ki85EyaE",
      "include_colab_link": true
    },
    "kernelspec": {
      "name": "python3",
      "display_name": "Python 3"
    },
    "language_info": {
      "name": "python"
    }
  },
  "cells": [
    {
      "cell_type": "markdown",
      "metadata": {
        "id": "view-in-github",
        "colab_type": "text"
      },
      "source": [
        "<a href=\"https://colab.research.google.com/github/IvoninDemidTF0322/Lab/blob/main/%D0%93%D1%80%D0%B0%D1%84%D0%B8%D0%BA%D0%B8%20%D0%B8%D0%B7%20%D1%83%D1%87%D0%B5%D0%B1%D0%BD%D0%B8%D0%BA%D0%B0%20%D1%81%D1%82%D1%8060.ipynb\" target=\"_parent\"><img src=\"https://colab.research.google.com/assets/colab-badge.svg\" alt=\"Open In Colab\"/></a>"
      ]
    },
    {
      "cell_type": "code",
      "execution_count": 2,
      "metadata": {
        "colab": {
          "base_uri": "https://localhost:8080/",
          "height": 58
        },
        "id": "Jt_Ntlfx4lJR",
        "outputId": "67767d69-fde9-41c9-ed48-f7bd1670b92c"
      },
      "outputs": [
        {
          "output_type": "execute_result",
          "data": {
            "text/plain": [
              "([1/6, 1/2], [0.16667, 0.5])"
            ],
            "text/latex": "$\\displaystyle \\left( \\left[ \\frac{1}{6}, \\  \\frac{1}{2}\\right], \\  \\left[ 0.16667, \\  0.5\\right]\\right)$"
          },
          "metadata": {},
          "execution_count": 2
        }
      ],
      "source": [
        "import numpy as np\n",
        "import matplotlib.pyplot as plt\n",
        "import sympy as smp \n",
        "a, x, V1 = smp.symbols('a x V1')\n",
        "smp.init_printing() \n",
        "V1 = a**3 * (1 - 2 * x)**2 * x\n",
        "V1s = smp.diff(V1, x)\n",
        "x1 = smp.solve(V1s, x) \n",
        "x1_ = [xx.evalf(5) for xx in x1]\n",
        "x1, x1_ \n",
        "V11 = [V1.subs(x, xx).subs(a, 1) for xx in x1]\n",
        "V11_ = [V1.subs(x, xx).subs(a, 1).evalf(5) for xx in x1]\n",
        "V11, V11_ \n",
        "V2 = smp.expand(smp.simplify(V1 + 4 * (a*x)**3 * (1 - 2*x)**2 * x))\n",
        "V2\n",
        "16*a**3*x**6-16*a**3*x**5+4*a**3*x**4+4*a**3*x**3-4*a*83*x**2+a**3*x\n",
        "96a**3x**5-80a**3x**4+16a**3x**3+12a**3x**2-8a**3x+a**3\n",
        "x2 = smp.solve(V2s, x)\n",
        "x2_ = [xx.evalf(5) for xx in x2]\n",
        "x2_\n",
        "[0.5, 0.31116−0.40393i, 0.31116+0.40393i, 0.17333, −0.46232]\n",
        "[V2.subs(x, xx).subs(a,1).evalf(5) for xx in x2_]\n",
        "[0.12632+0.18435i, 0.12632−0.18435i, 0.075528, −1.0356]\n",
        "V3 = smp.expand(smp.simplify(V2 + 16 * (a*x**2)**3 * (1 -\n",
        "2*x)**2 * x))\n",
        "V3s = smp.diff(V3, x)\n",
        "x3 = smp.solve(V3s, x)\n",
        "x3_ = [xx.evalf(5) for xx in x3] \n",
        "n, Vp, Vn = smp.symbols('n, Vp, Vn')\n",
        "Vn = 4**(n-2)*(a*x**(n-2))**3*(1-2*x)**2*x\n",
        "\n"
      ]
    }
  ]
}