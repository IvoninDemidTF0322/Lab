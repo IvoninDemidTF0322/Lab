{
  "nbformat": 4,
  "nbformat_minor": 0,
  "metadata": {
    "colab": {
      "provenance": [],
      "authorship_tag": "ABX9TyPhZbP1MoCmxsWlJyxt0Eu+",
      "include_colab_link": true
    },
    "kernelspec": {
      "name": "python3",
      "display_name": "Python 3"
    },
    "language_info": {
      "name": "python"
    }
  },
  "cells": [
    {
      "cell_type": "markdown",
      "metadata": {
        "id": "view-in-github",
        "colab_type": "text"
      },
      "source": [
        "<a href=\"https://colab.research.google.com/github/IvoninDemidTF0322/Lab/blob/main/Untitled2.ipynb\" target=\"_parent\"><img src=\"https://colab.research.google.com/assets/colab-badge.svg\" alt=\"Open In Colab\"/></a>"
      ]
    },
    {
      "cell_type": "code",
      "execution_count": null,
      "metadata": {
        "colab": {
          "base_uri": "https://localhost:8080/"
        },
        "id": "12eZKaONoiIe",
        "outputId": "5c76f4b0-7b47-4287-8afc-eda9e09d8e80"
      },
      "outputs": [
        {
          "output_type": "stream",
          "name": "stdout",
          "text": [
            "[ 5.03194397 -3.04464044]\n"
          ]
        }
      ],
      "source": [
        "import numpy as np\n",
        "from scipy.optimize import fsolve\n",
        "def f(p):\n",
        "  x,y=p\n",
        "  return (x**2+x*y-10, x*y+y**2+np.sin(x)+7)\n",
        "z=fsolve(f,(1,2))\n",
        "print(z)"
      ]
    },
    {
      "cell_type": "code",
      "source": [],
      "metadata": {
        "id": "Rjh5FF5f0ouY"
      },
      "execution_count": null,
      "outputs": []
    },
    {
      "cell_type": "markdown",
      "source": [
        "Функция CoolProp"
      ],
      "metadata": {
        "id": "a6L8IxitwfDX"
      }
    },
    {
      "cell_type": "code",
      "source": [
        "pip install CoolProp"
      ],
      "metadata": {
        "colab": {
          "base_uri": "https://localhost:8080/"
        },
        "id": "NtTcusDRwi60",
        "outputId": "f1b3f1f0-c816-4254-e37e-89b589c73bbc"
      },
      "execution_count": null,
      "outputs": [
        {
          "output_type": "stream",
          "name": "stdout",
          "text": [
            "Looking in indexes: https://pypi.org/simple, https://us-python.pkg.dev/colab-wheels/public/simple/\n",
            "Collecting CoolProp\n",
            "  Downloading CoolProp-6.4.3.post1-cp39-cp39-manylinux_2_17_x86_64.manylinux2014_x86_64.whl (6.2 MB)\n",
            "\u001b[2K     \u001b[90m━━━━━━━━━━━━━━━━━━━━━━━━━━━━━━━━━━━━━━━━\u001b[0m \u001b[32m6.2/6.2 MB\u001b[0m \u001b[31m36.5 MB/s\u001b[0m eta \u001b[36m0:00:00\u001b[0m\n",
            "\u001b[?25hInstalling collected packages: CoolProp\n",
            "Successfully installed CoolProp-6.4.3.post1\n"
          ]
        }
      ]
    },
    {
      "cell_type": "code",
      "source": [
        "import CoolProp.CoolProp as ct\n",
        "import numpy as np \n",
        "import matplotlib.pyplot as plt\n",
        "fluid_name=\"water\"\n",
        "t=np.linspace(274, 400, 500) \n",
        "p=101325\n",
        "d=ct.PropsSI(\"D\",\"T\",t,\"P\",p,fluid_name)\n",
        "plt.plot(t,d,\"r\")\n",
        "plt.title(\"График\")\n",
        "plt.xlabel(\"Температура\")\n",
        "plt.ylabel(\"Плотность\")\n",
        "plt.scatter(373.15,ct.PropsSI(\"D\",\"T\",373.15,\"P\",p,fluid_name))\n",
        "plt.grid()\n",
        "plt.show\n",
        "print(ct.PropsSI(\"D\",\"T\",373.15,\"P\",p,fluid_name))"
      ],
      "metadata": {
        "colab": {
          "base_uri": "https://localhost:8080/",
          "height": 489
        },
        "id": "RMIpLXIyw1UW",
        "outputId": "d4e213a7-a639-42e3-a56a-2bda6b6309c7"
      },
      "execution_count": null,
      "outputs": [
        {
          "output_type": "stream",
          "name": "stdout",
          "text": [
            "0.5976121865666683\n"
          ]
        },
        {
          "output_type": "display_data",
          "data": {
            "text/plain": [
              "<Figure size 640x480 with 1 Axes>"
            ],
            "image/png": "[encoded data removed]"
          },
          "metadata": {}
        }
      ]
    },
    {
      "cell_type": "code",
      "source": [],
      "metadata": {
        "id": "HW88qpbU3Vsx"
      },
      "execution_count": null,
      "outputs": []
    },
    {
      "cell_type": "markdown",
      "source": [
        "расчёт потери напора и давления в горизонтальном турбопроводе, по которому перекачивают воду абоба "
      ],
      "metadata": {
        "id": "g27p4EVS4nQ1"
      }
    },
    {
      "cell_type": "code",
      "source": [
        "num=input('Введите число')\n",
        "if int(num)>0:\n",
        "  print('Положительное число')\n",
        "elif int(num)==0:\n",
        "  print('Это 0')\n",
        "else:\n",
        "  print('Отрицательное число')\n"
      ],
      "metadata": {
        "colab": {
          "base_uri": "https://localhost:8080/"
        },
        "id": "cugXVU7C49sT",
        "outputId": "bb09820b-87f4-40f8-c0c9-6b67b0e5f1cb"
      },
      "execution_count": 3,
      "outputs": [
        {
          "output_type": "stream",
          "name": "stdout",
          "text": [
            "Введите число9\n",
            "Положительное число\n"
          ]
        }
      ]
    },
    {
      "cell_type": "code",
      "source": [
        "pip install CoolProp"
      ],
      "metadata": {
        "colab": {
          "base_uri": "https://localhost:8080/"
        },
        "id": "xZxx5Y677Wxc",
        "outputId": "2d7fa3d6-015a-4782-819d-d9b9caf4e4e2"
      },
      "execution_count": 4,
      "outputs": [
        {
          "output_type": "stream",
          "name": "stdout",
          "text": [
            "Looking in indexes: https://pypi.org/simple, https://us-python.pkg.dev/colab-wheels/public/simple/\n",
            "Collecting CoolProp\n",
            "  Downloading CoolProp-6.4.3.post1-cp310-cp310-manylinux_2_17_x86_64.manylinux2014_x86_64.whl (6.1 MB)\n",
            "\u001b[2K     \u001b[90m━━━━━━━━━━━━━━━━━━━━━━━━━━━━━━━━━━━━━━━━\u001b[0m \u001b[32m6.1/6.1 MB\u001b[0m \u001b[31m41.5 MB/s\u001b[0m eta \u001b[36m0:00:00\u001b[0m\n",
            "\u001b[?25hInstalling collected packages: CoolProp\n",
            "Successfully installed CoolProp-6.4.3.post1\n"
          ]
        }
      ]
    },
    {
      "cell_type": "code",
      "source": [
        "import CoolProp.CoolProp as ct\n",
        "import numpy as np\n",
        "import matplotlib.pyplot as plt\n",
        "q=700 # pасход кг/ч\n",
        "d=300 # диаметр трубы мм\n",
        "L=500 # ДЛина м\n",
        "Delta=0.002 # относительная шероховатость мм/м\n",
        "p=300 # давление входа Паскаль\n",
        "T=353.15 # температура градусы Кельвина\n",
        "Fluid_name='Water'# название жидкости\n",
        "r=ct.PropsSI('D','P',p,'T',T,Fluid_name)\n",
        "print('Плотность равна=',r, 'кг/м^3')\n",
        "Q=q/r\n",
        "print('Обьемный расход равен =',Q,'метров кубических в час' )\n",
        "F=np.pi*(d/2)**2\n",
        "print('Площадь сечения трубы равна=',F, 'миллиметров квадратных')\n",
        "V=Q/F*1000\n",
        "print('Скорость расхода=', V, 'скорость расхода км в ч')\n",
        "Re=(d*V)/(W/r)/3.6\n",
        "print(Re)\n",
        "u=10/Delta\n",
        "z=560/Delta\n",
        "\n",
        "if Re<2300:\n",
        "  k=64/Re\n",
        "  print('k=',k)\n",
        "elif Re<u:\n",
        "  k=0.3164/(Re**0.25)\n",
        "  print('k=',k)\n",
        "elif Re<z:\n",
        "  k=0.11*((Delta+68/Re)**0.25)\n",
        "  print('k=',k)\n",
        "else:\n",
        "  k=0.11*(Delta**0.25)\n",
        "  print('k=',k)"
      ],
      "metadata": {
        "colab": {
          "base_uri": "https://localhost:8080/",
          "height": 304
        },
        "id": "CbPRCrcYBa3v",
        "outputId": "2cc7c89d-8585-426d-9fa6-a221f3fbdd08"
      },
      "execution_count": 22,
      "outputs": [
        {
          "output_type": "stream",
          "name": "stdout",
          "text": [
            "Плотность равна= 0.0018407648286559856 кг/м^3\n",
            "Обьемный расход равен = 380276.7138435046 метров кубических в час\n",
            "Площадь сечения трубы равна= 70685.83470577035 миллиметров квадратных\n",
            "Скорость расхода= 5379.815000083195 скорость расхода км в ч\n"
          ]
        },
        {
          "output_type": "error",
          "ename": "NameError",
          "evalue": "ignored",
          "traceback": [
            "\u001b[0;31m---------------------------------------------------------------------------\u001b[0m",
            "\u001b[0;31mNameError\u001b[0m                                 Traceback (most recent call last)",
            "\u001b[0;32m<ipython-input-22-7c8da29987ef>\u001b[0m in \u001b[0;36m<cell line: 19>\u001b[0;34m()\u001b[0m\n\u001b[1;32m     17\u001b[0m \u001b[0mV\u001b[0m\u001b[0;34m=\u001b[0m\u001b[0mQ\u001b[0m\u001b[0;34m/\u001b[0m\u001b[0mF\u001b[0m\u001b[0;34m*\u001b[0m\u001b[0;36m1000\u001b[0m\u001b[0;34m\u001b[0m\u001b[0;34m\u001b[0m\u001b[0m\n\u001b[1;32m     18\u001b[0m \u001b[0mprint\u001b[0m\u001b[0;34m(\u001b[0m\u001b[0;34m'Скорость расхода='\u001b[0m\u001b[0;34m,\u001b[0m \u001b[0mV\u001b[0m\u001b[0;34m,\u001b[0m \u001b[0;34m'скорость расхода км в ч'\u001b[0m\u001b[0;34m)\u001b[0m\u001b[0;34m\u001b[0m\u001b[0;34m\u001b[0m\u001b[0m\n\u001b[0;32m---> 19\u001b[0;31m \u001b[0mRe\u001b[0m\u001b[0;34m=\u001b[0m\u001b[0;34m(\u001b[0m\u001b[0md\u001b[0m\u001b[0;34m*\u001b[0m\u001b[0mV\u001b[0m\u001b[0;34m)\u001b[0m\u001b[0;34m/\u001b[0m\u001b[0;34m(\u001b[0m\u001b[0mW\u001b[0m\u001b[0;34m/\u001b[0m\u001b[0mr\u001b[0m\u001b[0;34m)\u001b[0m\u001b[0;34m/\u001b[0m\u001b[0;36m3.6\u001b[0m\u001b[0;34m\u001b[0m\u001b[0;34m\u001b[0m\u001b[0m\n\u001b[0m\u001b[1;32m     20\u001b[0m \u001b[0mprint\u001b[0m\u001b[0;34m(\u001b[0m\u001b[0mRe\u001b[0m\u001b[0;34m)\u001b[0m\u001b[0;34m\u001b[0m\u001b[0;34m\u001b[0m\u001b[0m\n\u001b[1;32m     21\u001b[0m \u001b[0mu\u001b[0m\u001b[0;34m=\u001b[0m\u001b[0;36m10\u001b[0m\u001b[0;34m/\u001b[0m\u001b[0mDelta\u001b[0m\u001b[0;34m\u001b[0m\u001b[0;34m\u001b[0m\u001b[0m\n",
            "\u001b[0;31mNameError\u001b[0m: name 'W' is not defined"
          ]
        }
      ]
    }
  ]
}